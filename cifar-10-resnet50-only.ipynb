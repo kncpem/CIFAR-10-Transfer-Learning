{
 "cells": [
  {
   "cell_type": "code",
   "execution_count": 1,
   "id": "4c9b1b24",
   "metadata": {
    "_cell_guid": "b1076dfc-b9ad-4769-8c92-a6c4dae69d19",
    "_uuid": "8f2839f25d086af736a60e9eeb907d3b93b6e0e5",
    "execution": {
     "iopub.execute_input": "2025-09-03T18:19:49.033307Z",
     "iopub.status.busy": "2025-09-03T18:19:49.033097Z",
     "iopub.status.idle": "2025-09-03T18:20:04.171019Z",
     "shell.execute_reply": "2025-09-03T18:20:04.170384Z"
    },
    "papermill": {
     "duration": 15.142806,
     "end_time": "2025-09-03T18:20:04.172407",
     "exception": false,
     "start_time": "2025-09-03T18:19:49.029601",
     "status": "completed"
    },
    "tags": []
   },
   "outputs": [
    {
     "name": "stderr",
     "output_type": "stream",
     "text": [
      "2025-09-03 18:19:50.620970: E external/local_xla/xla/stream_executor/cuda/cuda_fft.cc:477] Unable to register cuFFT factory: Attempting to register factory for plugin cuFFT when one has already been registered\n",
      "WARNING: All log messages before absl::InitializeLog() is called are written to STDERR\n",
      "E0000 00:00:1756923590.820149      19 cuda_dnn.cc:8310] Unable to register cuDNN factory: Attempting to register factory for plugin cuDNN when one has already been registered\n",
      "E0000 00:00:1756923590.877054      19 cuda_blas.cc:1418] Unable to register cuBLAS factory: Attempting to register factory for plugin cuBLAS when one has already been registered\n"
     ]
    }
   ],
   "source": [
    "#General Imports\n",
    "import tensorflow as tf\n",
    "from tensorflow.keras import layers, models, applications, optimizers\n",
    "from tensorflow.keras.applications import ResNet50\n",
    "from tensorflow.keras.datasets import cifar10\n",
    "from tensorflow.keras.models import Model\n",
    "from tensorflow.keras.layers import Dense, GlobalAveragePooling2D, Dropout\n",
    "from tensorflow.keras.optimizers import Adam\n",
    "from tensorflow.keras.preprocessing.image import ImageDataGenerator\n",
    "from tensorflow.keras.utils import to_categorical\n",
    "import matplotlib.pyplot as plt\n",
    "from sklearn.metrics import accuracy_score\n",
    "from sklearn.metrics import classification_report"
   ]
  },
  {
   "cell_type": "code",
   "execution_count": 2,
   "id": "da280ed4",
   "metadata": {
    "execution": {
     "iopub.execute_input": "2025-09-03T18:20:04.178886Z",
     "iopub.status.busy": "2025-09-03T18:20:04.178203Z",
     "iopub.status.idle": "2025-09-03T18:20:17.970574Z",
     "shell.execute_reply": "2025-09-03T18:20:17.969732Z"
    },
    "papermill": {
     "duration": 13.796845,
     "end_time": "2025-09-03T18:20:17.972073",
     "exception": false,
     "start_time": "2025-09-03T18:20:04.175228",
     "status": "completed"
    },
    "tags": []
   },
   "outputs": [
    {
     "name": "stdout",
     "output_type": "stream",
     "text": [
      "Downloading data from https://www.cs.toronto.edu/~kriz/cifar-10-python.tar.gz\n",
      "\u001b[1m170498071/170498071\u001b[0m \u001b[32m━━━━━━━━━━━━━━━━━━━━\u001b[0m\u001b[37m\u001b[0m \u001b[1m11s\u001b[0m 0us/step\n"
     ]
    }
   ],
   "source": [
    "(x_train, y_train), (x_test, y_test) = cifar10.load_data()\n",
    "num_classes = 10"
   ]
  },
  {
   "cell_type": "code",
   "execution_count": 3,
   "id": "ca21b6d4",
   "metadata": {
    "execution": {
     "iopub.execute_input": "2025-09-03T18:20:17.985718Z",
     "iopub.status.busy": "2025-09-03T18:20:17.985492Z",
     "iopub.status.idle": "2025-09-03T18:20:18.454268Z",
     "shell.execute_reply": "2025-09-03T18:20:18.453637Z"
    },
    "papermill": {
     "duration": 0.476696,
     "end_time": "2025-09-03T18:20:18.455624",
     "exception": false,
     "start_time": "2025-09-03T18:20:17.978928",
     "status": "completed"
    },
    "tags": []
   },
   "outputs": [],
   "source": [
    "x_train, x_test = x_train / 255.0, x_test / 255.0"
   ]
  },
  {
   "cell_type": "code",
   "execution_count": 4,
   "id": "ac2ee7cb",
   "metadata": {
    "execution": {
     "iopub.execute_input": "2025-09-03T18:20:18.468749Z",
     "iopub.status.busy": "2025-09-03T18:20:18.468536Z",
     "iopub.status.idle": "2025-09-03T18:20:18.475325Z",
     "shell.execute_reply": "2025-09-03T18:20:18.474806Z"
    },
    "papermill": {
     "duration": 0.014602,
     "end_time": "2025-09-03T18:20:18.476491",
     "exception": false,
     "start_time": "2025-09-03T18:20:18.461889",
     "status": "completed"
    },
    "tags": []
   },
   "outputs": [],
   "source": [
    "#one-hot encoding\n",
    "y_train = to_categorical(y_train, num_classes)\n",
    "y_test = to_categorical(y_test, num_classes)"
   ]
  },
  {
   "cell_type": "code",
   "execution_count": 5,
   "id": "97c1283f",
   "metadata": {
    "execution": {
     "iopub.execute_input": "2025-09-03T18:20:18.489179Z",
     "iopub.status.busy": "2025-09-03T18:20:18.488934Z",
     "iopub.status.idle": "2025-09-03T18:20:25.590291Z",
     "shell.execute_reply": "2025-09-03T18:20:25.589634Z"
    },
    "papermill": {
     "duration": 7.109238,
     "end_time": "2025-09-03T18:20:25.591628",
     "exception": false,
     "start_time": "2025-09-03T18:20:18.482390",
     "status": "completed"
    },
    "tags": []
   },
   "outputs": [
    {
     "name": "stderr",
     "output_type": "stream",
     "text": [
      "I0000 00:00:1756923619.241820      19 gpu_device.cc:2022] Created device /job:localhost/replica:0/task:0/device:GPU:0 with 15513 MB memory:  -> device: 0, name: Tesla P100-PCIE-16GB, pci bus id: 0000:00:04.0, compute capability: 6.0\n"
     ]
    },
    {
     "name": "stdout",
     "output_type": "stream",
     "text": [
      "Downloading data from https://storage.googleapis.com/tensorflow/keras-applications/resnet/resnet50_weights_tf_dim_ordering_tf_kernels_notop.h5\n",
      "\u001b[1m94765736/94765736\u001b[0m \u001b[32m━━━━━━━━━━━━━━━━━━━━\u001b[0m\u001b[37m\u001b[0m \u001b[1m4s\u001b[0m 0us/step\n"
     ]
    }
   ],
   "source": [
    "base_model = ResNet50(weights='imagenet', include_top=False, input_shape=(256, 256, 3))"
   ]
  },
  {
   "cell_type": "code",
   "execution_count": 6,
   "id": "29477225",
   "metadata": {
    "execution": {
     "iopub.execute_input": "2025-09-03T18:20:25.610552Z",
     "iopub.status.busy": "2025-09-03T18:20:25.610316Z",
     "iopub.status.idle": "2025-09-03T18:20:25.613393Z",
     "shell.execute_reply": "2025-09-03T18:20:25.612902Z"
    },
    "papermill": {
     "duration": 0.013022,
     "end_time": "2025-09-03T18:20:25.614409",
     "exception": false,
     "start_time": "2025-09-03T18:20:25.601387",
     "status": "completed"
    },
    "tags": []
   },
   "outputs": [],
   "source": [
    "base_model.trainable = True\n",
    "# for layer in base_model.layers[:-20]:\n",
    "#     layer.trainable = False\n",
    "# base_model.trainable = False"
   ]
  },
  {
   "cell_type": "code",
   "execution_count": 7,
   "id": "b5d2e315",
   "metadata": {
    "execution": {
     "iopub.execute_input": "2025-09-03T18:20:25.632124Z",
     "iopub.status.busy": "2025-09-03T18:20:25.631925Z",
     "iopub.status.idle": "2025-09-03T18:20:25.710262Z",
     "shell.execute_reply": "2025-09-03T18:20:25.709691Z"
    },
    "papermill": {
     "duration": 0.088323,
     "end_time": "2025-09-03T18:20:25.711282",
     "exception": false,
     "start_time": "2025-09-03T18:20:25.622959",
     "status": "completed"
    },
    "tags": []
   },
   "outputs": [
    {
     "name": "stderr",
     "output_type": "stream",
     "text": [
      "/usr/local/lib/python3.11/dist-packages/keras/src/layers/preprocessing/tf_data_layer.py:19: UserWarning: Do not pass an `input_shape`/`input_dim` argument to a layer. When using Sequential models, prefer using an `Input(shape)` object as the first layer in the model instead.\n",
      "  super().__init__(**kwargs)\n"
     ]
    },
    {
     "data": {
      "text/html": [
       "<pre style=\"white-space:pre;overflow-x:auto;line-height:normal;font-family:Menlo,'DejaVu Sans Mono',consolas,'Courier New',monospace\"><span style=\"font-weight: bold\">Model: \"sequential\"</span>\n",
       "</pre>\n"
      ],
      "text/plain": [
       "\u001b[1mModel: \"sequential\"\u001b[0m\n"
      ]
     },
     "metadata": {},
     "output_type": "display_data"
    },
    {
     "data": {
      "text/html": [
       "<pre style=\"white-space:pre;overflow-x:auto;line-height:normal;font-family:Menlo,'DejaVu Sans Mono',consolas,'Courier New',monospace\">┏━━━━━━━━━━━━━━━━━━━━━━━━━━━━━━━━━┳━━━━━━━━━━━━━━━━━━━━━━━━┳━━━━━━━━━━━━━━━┓\n",
       "┃<span style=\"font-weight: bold\"> Layer (type)                    </span>┃<span style=\"font-weight: bold\"> Output Shape           </span>┃<span style=\"font-weight: bold\">       Param # </span>┃\n",
       "┡━━━━━━━━━━━━━━━━━━━━━━━━━━━━━━━━━╇━━━━━━━━━━━━━━━━━━━━━━━━╇━━━━━━━━━━━━━━━┩\n",
       "│ resizing (<span style=\"color: #0087ff; text-decoration-color: #0087ff\">Resizing</span>)             │ (<span style=\"color: #00d7ff; text-decoration-color: #00d7ff\">None</span>, <span style=\"color: #00af00; text-decoration-color: #00af00\">256</span>, <span style=\"color: #00af00; text-decoration-color: #00af00\">256</span>, <span style=\"color: #00af00; text-decoration-color: #00af00\">3</span>)    │             <span style=\"color: #00af00; text-decoration-color: #00af00\">0</span> │\n",
       "├─────────────────────────────────┼────────────────────────┼───────────────┤\n",
       "│ resnet50 (<span style=\"color: #0087ff; text-decoration-color: #0087ff\">Functional</span>)           │ (<span style=\"color: #00d7ff; text-decoration-color: #00d7ff\">None</span>, <span style=\"color: #00af00; text-decoration-color: #00af00\">8</span>, <span style=\"color: #00af00; text-decoration-color: #00af00\">8</span>, <span style=\"color: #00af00; text-decoration-color: #00af00\">2048</span>)     │    <span style=\"color: #00af00; text-decoration-color: #00af00\">23,587,712</span> │\n",
       "├─────────────────────────────────┼────────────────────────┼───────────────┤\n",
       "│ flatten (<span style=\"color: #0087ff; text-decoration-color: #0087ff\">Flatten</span>)               │ (<span style=\"color: #00d7ff; text-decoration-color: #00d7ff\">None</span>, <span style=\"color: #00af00; text-decoration-color: #00af00\">131072</span>)         │             <span style=\"color: #00af00; text-decoration-color: #00af00\">0</span> │\n",
       "├─────────────────────────────────┼────────────────────────┼───────────────┤\n",
       "│ batch_normalization             │ (<span style=\"color: #00d7ff; text-decoration-color: #00d7ff\">None</span>, <span style=\"color: #00af00; text-decoration-color: #00af00\">131072</span>)         │       <span style=\"color: #00af00; text-decoration-color: #00af00\">524,288</span> │\n",
       "│ (<span style=\"color: #0087ff; text-decoration-color: #0087ff\">BatchNormalization</span>)            │                        │               │\n",
       "├─────────────────────────────────┼────────────────────────┼───────────────┤\n",
       "│ dense (<span style=\"color: #0087ff; text-decoration-color: #0087ff\">Dense</span>)                   │ (<span style=\"color: #00d7ff; text-decoration-color: #00d7ff\">None</span>, <span style=\"color: #00af00; text-decoration-color: #00af00\">128</span>)            │    <span style=\"color: #00af00; text-decoration-color: #00af00\">16,777,344</span> │\n",
       "├─────────────────────────────────┼────────────────────────┼───────────────┤\n",
       "│ dropout (<span style=\"color: #0087ff; text-decoration-color: #0087ff\">Dropout</span>)               │ (<span style=\"color: #00d7ff; text-decoration-color: #00d7ff\">None</span>, <span style=\"color: #00af00; text-decoration-color: #00af00\">128</span>)            │             <span style=\"color: #00af00; text-decoration-color: #00af00\">0</span> │\n",
       "├─────────────────────────────────┼────────────────────────┼───────────────┤\n",
       "│ batch_normalization_1           │ (<span style=\"color: #00d7ff; text-decoration-color: #00d7ff\">None</span>, <span style=\"color: #00af00; text-decoration-color: #00af00\">128</span>)            │           <span style=\"color: #00af00; text-decoration-color: #00af00\">512</span> │\n",
       "│ (<span style=\"color: #0087ff; text-decoration-color: #0087ff\">BatchNormalization</span>)            │                        │               │\n",
       "├─────────────────────────────────┼────────────────────────┼───────────────┤\n",
       "│ dense_1 (<span style=\"color: #0087ff; text-decoration-color: #0087ff\">Dense</span>)                 │ (<span style=\"color: #00d7ff; text-decoration-color: #00d7ff\">None</span>, <span style=\"color: #00af00; text-decoration-color: #00af00\">64</span>)             │         <span style=\"color: #00af00; text-decoration-color: #00af00\">8,256</span> │\n",
       "├─────────────────────────────────┼────────────────────────┼───────────────┤\n",
       "│ dropout_1 (<span style=\"color: #0087ff; text-decoration-color: #0087ff\">Dropout</span>)             │ (<span style=\"color: #00d7ff; text-decoration-color: #00d7ff\">None</span>, <span style=\"color: #00af00; text-decoration-color: #00af00\">64</span>)             │             <span style=\"color: #00af00; text-decoration-color: #00af00\">0</span> │\n",
       "├─────────────────────────────────┼────────────────────────┼───────────────┤\n",
       "│ batch_normalization_2           │ (<span style=\"color: #00d7ff; text-decoration-color: #00d7ff\">None</span>, <span style=\"color: #00af00; text-decoration-color: #00af00\">64</span>)             │           <span style=\"color: #00af00; text-decoration-color: #00af00\">256</span> │\n",
       "│ (<span style=\"color: #0087ff; text-decoration-color: #0087ff\">BatchNormalization</span>)            │                        │               │\n",
       "├─────────────────────────────────┼────────────────────────┼───────────────┤\n",
       "│ dense_2 (<span style=\"color: #0087ff; text-decoration-color: #0087ff\">Dense</span>)                 │ (<span style=\"color: #00d7ff; text-decoration-color: #00d7ff\">None</span>, <span style=\"color: #00af00; text-decoration-color: #00af00\">10</span>)             │           <span style=\"color: #00af00; text-decoration-color: #00af00\">650</span> │\n",
       "└─────────────────────────────────┴────────────────────────┴───────────────┘\n",
       "</pre>\n"
      ],
      "text/plain": [
       "┏━━━━━━━━━━━━━━━━━━━━━━━━━━━━━━━━━┳━━━━━━━━━━━━━━━━━━━━━━━━┳━━━━━━━━━━━━━━━┓\n",
       "┃\u001b[1m \u001b[0m\u001b[1mLayer (type)                   \u001b[0m\u001b[1m \u001b[0m┃\u001b[1m \u001b[0m\u001b[1mOutput Shape          \u001b[0m\u001b[1m \u001b[0m┃\u001b[1m \u001b[0m\u001b[1m      Param #\u001b[0m\u001b[1m \u001b[0m┃\n",
       "┡━━━━━━━━━━━━━━━━━━━━━━━━━━━━━━━━━╇━━━━━━━━━━━━━━━━━━━━━━━━╇━━━━━━━━━━━━━━━┩\n",
       "│ resizing (\u001b[38;5;33mResizing\u001b[0m)             │ (\u001b[38;5;45mNone\u001b[0m, \u001b[38;5;34m256\u001b[0m, \u001b[38;5;34m256\u001b[0m, \u001b[38;5;34m3\u001b[0m)    │             \u001b[38;5;34m0\u001b[0m │\n",
       "├─────────────────────────────────┼────────────────────────┼───────────────┤\n",
       "│ resnet50 (\u001b[38;5;33mFunctional\u001b[0m)           │ (\u001b[38;5;45mNone\u001b[0m, \u001b[38;5;34m8\u001b[0m, \u001b[38;5;34m8\u001b[0m, \u001b[38;5;34m2048\u001b[0m)     │    \u001b[38;5;34m23,587,712\u001b[0m │\n",
       "├─────────────────────────────────┼────────────────────────┼───────────────┤\n",
       "│ flatten (\u001b[38;5;33mFlatten\u001b[0m)               │ (\u001b[38;5;45mNone\u001b[0m, \u001b[38;5;34m131072\u001b[0m)         │             \u001b[38;5;34m0\u001b[0m │\n",
       "├─────────────────────────────────┼────────────────────────┼───────────────┤\n",
       "│ batch_normalization             │ (\u001b[38;5;45mNone\u001b[0m, \u001b[38;5;34m131072\u001b[0m)         │       \u001b[38;5;34m524,288\u001b[0m │\n",
       "│ (\u001b[38;5;33mBatchNormalization\u001b[0m)            │                        │               │\n",
       "├─────────────────────────────────┼────────────────────────┼───────────────┤\n",
       "│ dense (\u001b[38;5;33mDense\u001b[0m)                   │ (\u001b[38;5;45mNone\u001b[0m, \u001b[38;5;34m128\u001b[0m)            │    \u001b[38;5;34m16,777,344\u001b[0m │\n",
       "├─────────────────────────────────┼────────────────────────┼───────────────┤\n",
       "│ dropout (\u001b[38;5;33mDropout\u001b[0m)               │ (\u001b[38;5;45mNone\u001b[0m, \u001b[38;5;34m128\u001b[0m)            │             \u001b[38;5;34m0\u001b[0m │\n",
       "├─────────────────────────────────┼────────────────────────┼───────────────┤\n",
       "│ batch_normalization_1           │ (\u001b[38;5;45mNone\u001b[0m, \u001b[38;5;34m128\u001b[0m)            │           \u001b[38;5;34m512\u001b[0m │\n",
       "│ (\u001b[38;5;33mBatchNormalization\u001b[0m)            │                        │               │\n",
       "├─────────────────────────────────┼────────────────────────┼───────────────┤\n",
       "│ dense_1 (\u001b[38;5;33mDense\u001b[0m)                 │ (\u001b[38;5;45mNone\u001b[0m, \u001b[38;5;34m64\u001b[0m)             │         \u001b[38;5;34m8,256\u001b[0m │\n",
       "├─────────────────────────────────┼────────────────────────┼───────────────┤\n",
       "│ dropout_1 (\u001b[38;5;33mDropout\u001b[0m)             │ (\u001b[38;5;45mNone\u001b[0m, \u001b[38;5;34m64\u001b[0m)             │             \u001b[38;5;34m0\u001b[0m │\n",
       "├─────────────────────────────────┼────────────────────────┼───────────────┤\n",
       "│ batch_normalization_2           │ (\u001b[38;5;45mNone\u001b[0m, \u001b[38;5;34m64\u001b[0m)             │           \u001b[38;5;34m256\u001b[0m │\n",
       "│ (\u001b[38;5;33mBatchNormalization\u001b[0m)            │                        │               │\n",
       "├─────────────────────────────────┼────────────────────────┼───────────────┤\n",
       "│ dense_2 (\u001b[38;5;33mDense\u001b[0m)                 │ (\u001b[38;5;45mNone\u001b[0m, \u001b[38;5;34m10\u001b[0m)             │           \u001b[38;5;34m650\u001b[0m │\n",
       "└─────────────────────────────────┴────────────────────────┴───────────────┘\n"
      ]
     },
     "metadata": {},
     "output_type": "display_data"
    },
    {
     "data": {
      "text/html": [
       "<pre style=\"white-space:pre;overflow-x:auto;line-height:normal;font-family:Menlo,'DejaVu Sans Mono',consolas,'Courier New',monospace\"><span style=\"font-weight: bold\"> Total params: </span><span style=\"color: #00af00; text-decoration-color: #00af00\">40,899,018</span> (156.02 MB)\n",
       "</pre>\n"
      ],
      "text/plain": [
       "\u001b[1m Total params: \u001b[0m\u001b[38;5;34m40,899,018\u001b[0m (156.02 MB)\n"
      ]
     },
     "metadata": {},
     "output_type": "display_data"
    },
    {
     "data": {
      "text/html": [
       "<pre style=\"white-space:pre;overflow-x:auto;line-height:normal;font-family:Menlo,'DejaVu Sans Mono',consolas,'Courier New',monospace\"><span style=\"font-weight: bold\"> Trainable params: </span><span style=\"color: #00af00; text-decoration-color: #00af00\">40,583,370</span> (154.81 MB)\n",
       "</pre>\n"
      ],
      "text/plain": [
       "\u001b[1m Trainable params: \u001b[0m\u001b[38;5;34m40,583,370\u001b[0m (154.81 MB)\n"
      ]
     },
     "metadata": {},
     "output_type": "display_data"
    },
    {
     "data": {
      "text/html": [
       "<pre style=\"white-space:pre;overflow-x:auto;line-height:normal;font-family:Menlo,'DejaVu Sans Mono',consolas,'Courier New',monospace\"><span style=\"font-weight: bold\"> Non-trainable params: </span><span style=\"color: #00af00; text-decoration-color: #00af00\">315,648</span> (1.20 MB)\n",
       "</pre>\n"
      ],
      "text/plain": [
       "\u001b[1m Non-trainable params: \u001b[0m\u001b[38;5;34m315,648\u001b[0m (1.20 MB)\n"
      ]
     },
     "metadata": {},
     "output_type": "display_data"
    }
   ],
   "source": [
    "#Fully-connected layer\n",
    "fine_tuning_model = models.Sequential([\n",
    "    layers.Resizing(256, 256, input_shape=(32, 32, 3)),  # Resize CIFAR-10 (32x32) → 224x224\n",
    "    base_model,\n",
    "    layers.Flatten(),\n",
    "    layers.BatchNormalization(),\n",
    "    layers.Dense(128, activation='relu'),\n",
    "    layers.Dropout(0.5),\n",
    "    layers.BatchNormalization(),\n",
    "    layers.Dense(64, activation='relu'),\n",
    "    layers.Dropout(0.5),\n",
    "    layers.BatchNormalization(),\n",
    "    layers.Dense(num_classes, activation='softmax')\n",
    "])\n",
    "\n",
    "fine_tuning_model.summary()"
   ]
  },
  {
   "cell_type": "code",
   "execution_count": 8,
   "id": "b69f77b2",
   "metadata": {
    "execution": {
     "iopub.execute_input": "2025-09-03T18:20:25.729855Z",
     "iopub.status.busy": "2025-09-03T18:20:25.729618Z",
     "iopub.status.idle": "2025-09-03T18:20:25.740912Z",
     "shell.execute_reply": "2025-09-03T18:20:25.740395Z"
    },
    "papermill": {
     "duration": 0.021481,
     "end_time": "2025-09-03T18:20:25.741902",
     "exception": false,
     "start_time": "2025-09-03T18:20:25.720421",
     "status": "completed"
    },
    "tags": []
   },
   "outputs": [],
   "source": [
    "#Compile model\n",
    "fine_tuning_model.compile(\n",
    "    # optimizer= Adam(2e-5),\n",
    "    optimizer = optimizers.RMSprop(learning_rate=2e-5),\n",
    "    loss='categorical_crossentropy',\n",
    "    metrics=['accuracy']\n",
    ")"
   ]
  },
  {
   "cell_type": "code",
   "execution_count": 9,
   "id": "e50d18dc",
   "metadata": {
    "execution": {
     "iopub.execute_input": "2025-09-03T18:20:25.760135Z",
     "iopub.status.busy": "2025-09-03T18:20:25.759957Z",
     "iopub.status.idle": "2025-09-03T18:20:26.201724Z",
     "shell.execute_reply": "2025-09-03T18:20:26.201114Z"
    },
    "papermill": {
     "duration": 0.452582,
     "end_time": "2025-09-03T18:20:26.203138",
     "exception": false,
     "start_time": "2025-09-03T18:20:25.750556",
     "status": "completed"
    },
    "tags": []
   },
   "outputs": [],
   "source": [
    "#Data Augmentation\n",
    "datagen = ImageDataGenerator(\n",
    "    rotation_range = 15,\n",
    "    width_shift_range = 0.1,\n",
    "    height_shift_range = 0.1,\n",
    "    horizontal_flip = True,\n",
    "    # vertical_flip = True\n",
    ")\n",
    "datagen.fit(x_train)"
   ]
  },
  {
   "cell_type": "code",
   "execution_count": 10,
   "id": "8b13afe0",
   "metadata": {
    "execution": {
     "iopub.execute_input": "2025-09-03T18:20:26.222838Z",
     "iopub.status.busy": "2025-09-03T18:20:26.222257Z",
     "iopub.status.idle": "2025-09-03T19:56:22.353069Z",
     "shell.execute_reply": "2025-09-03T19:56:22.352471Z"
    },
    "papermill": {
     "duration": 5756.141703,
     "end_time": "2025-09-03T19:56:22.354232",
     "exception": false,
     "start_time": "2025-09-03T18:20:26.212529",
     "status": "completed"
    },
    "tags": []
   },
   "outputs": [
    {
     "name": "stdout",
     "output_type": "stream",
     "text": [
      "Epoch 1/20\n"
     ]
    },
    {
     "name": "stderr",
     "output_type": "stream",
     "text": [
      "/usr/local/lib/python3.11/dist-packages/keras/src/trainers/data_adapters/py_dataset_adapter.py:121: UserWarning: Your `PyDataset` class should call `super().__init__(**kwargs)` in its constructor. `**kwargs` can include `workers`, `use_multiprocessing`, `max_queue_size`. Do not pass these arguments to `fit()`, as they will be ignored.\n",
      "  self._warn_if_super_not_called()\n",
      "WARNING: All log messages before absl::InitializeLog() is called are written to STDERR\n",
      "I0000 00:00:1756923658.237620      59 service.cc:148] XLA service 0x7d2a100046a0 initialized for platform CUDA (this does not guarantee that XLA will be used). Devices:\n",
      "I0000 00:00:1756923658.238693      59 service.cc:156]   StreamExecutor device (0): Tesla P100-PCIE-16GB, Compute Capability 6.0\n",
      "I0000 00:00:1756923661.610587      59 cuda_dnn.cc:529] Loaded cuDNN version 90300\n",
      "I0000 00:00:1756923681.741906      59 device_compiler.h:188] Compiled cluster using XLA!  This line is logged at most once for the lifetime of the process.\n"
     ]
    },
    {
     "name": "stdout",
     "output_type": "stream",
     "text": [
      "\u001b[1m1563/1563\u001b[0m \u001b[32m━━━━━━━━━━━━━━━━━━━━\u001b[0m\u001b[37m\u001b[0m \u001b[1m366s\u001b[0m 199ms/step - accuracy: 0.3362 - loss: 2.0215 - val_accuracy: 0.8245 - val_loss: 0.6355\n",
      "Epoch 2/20\n",
      "\u001b[1m1563/1563\u001b[0m \u001b[32m━━━━━━━━━━━━━━━━━━━━\u001b[0m\u001b[37m\u001b[0m \u001b[1m285s\u001b[0m 182ms/step - accuracy: 0.6932 - loss: 1.0172 - val_accuracy: 0.8959 - val_loss: 0.4101\n",
      "Epoch 3/20\n",
      "\u001b[1m1563/1563\u001b[0m \u001b[32m━━━━━━━━━━━━━━━━━━━━\u001b[0m\u001b[37m\u001b[0m \u001b[1m285s\u001b[0m 182ms/step - accuracy: 0.8006 - loss: 0.7457 - val_accuracy: 0.9185 - val_loss: 0.2989\n",
      "Epoch 4/20\n",
      "\u001b[1m1563/1563\u001b[0m \u001b[32m━━━━━━━━━━━━━━━━━━━━\u001b[0m\u001b[37m\u001b[0m \u001b[1m285s\u001b[0m 182ms/step - accuracy: 0.8462 - loss: 0.6118 - val_accuracy: 0.9367 - val_loss: 0.2436\n",
      "Epoch 5/20\n",
      "\u001b[1m1563/1563\u001b[0m \u001b[32m━━━━━━━━━━━━━━━━━━━━\u001b[0m\u001b[37m\u001b[0m \u001b[1m285s\u001b[0m 182ms/step - accuracy: 0.8763 - loss: 0.5135 - val_accuracy: 0.9437 - val_loss: 0.2008\n",
      "Epoch 6/20\n",
      "\u001b[1m1563/1563\u001b[0m \u001b[32m━━━━━━━━━━━━━━━━━━━━\u001b[0m\u001b[37m\u001b[0m \u001b[1m285s\u001b[0m 182ms/step - accuracy: 0.8950 - loss: 0.4532 - val_accuracy: 0.9477 - val_loss: 0.1865\n",
      "Epoch 7/20\n",
      "\u001b[1m1563/1563\u001b[0m \u001b[32m━━━━━━━━━━━━━━━━━━━━\u001b[0m\u001b[37m\u001b[0m \u001b[1m284s\u001b[0m 182ms/step - accuracy: 0.9157 - loss: 0.3760 - val_accuracy: 0.9475 - val_loss: 0.1817\n",
      "Epoch 8/20\n",
      "\u001b[1m1563/1563\u001b[0m \u001b[32m━━━━━━━━━━━━━━━━━━━━\u001b[0m\u001b[37m\u001b[0m \u001b[1m285s\u001b[0m 182ms/step - accuracy: 0.9244 - loss: 0.3378 - val_accuracy: 0.9538 - val_loss: 0.1653\n",
      "Epoch 9/20\n",
      "\u001b[1m1563/1563\u001b[0m \u001b[32m━━━━━━━━━━━━━━━━━━━━\u001b[0m\u001b[37m\u001b[0m \u001b[1m284s\u001b[0m 182ms/step - accuracy: 0.9339 - loss: 0.3002 - val_accuracy: 0.9545 - val_loss: 0.1602\n",
      "Epoch 10/20\n",
      "\u001b[1m1563/1563\u001b[0m \u001b[32m━━━━━━━━━━━━━━━━━━━━\u001b[0m\u001b[37m\u001b[0m \u001b[1m285s\u001b[0m 182ms/step - accuracy: 0.9427 - loss: 0.2648 - val_accuracy: 0.9590 - val_loss: 0.1463\n",
      "Epoch 11/20\n",
      "\u001b[1m1563/1563\u001b[0m \u001b[32m━━━━━━━━━━━━━━━━━━━━\u001b[0m\u001b[37m\u001b[0m \u001b[1m285s\u001b[0m 182ms/step - accuracy: 0.9476 - loss: 0.2458 - val_accuracy: 0.9572 - val_loss: 0.1541\n",
      "Epoch 12/20\n",
      "\u001b[1m1563/1563\u001b[0m \u001b[32m━━━━━━━━━━━━━━━━━━━━\u001b[0m\u001b[37m\u001b[0m \u001b[1m285s\u001b[0m 182ms/step - accuracy: 0.9540 - loss: 0.2125 - val_accuracy: 0.9592 - val_loss: 0.1491\n",
      "Epoch 13/20\n",
      "\u001b[1m1563/1563\u001b[0m \u001b[32m━━━━━━━━━━━━━━━━━━━━\u001b[0m\u001b[37m\u001b[0m \u001b[1m285s\u001b[0m 182ms/step - accuracy: 0.9573 - loss: 0.1984 - val_accuracy: 0.9586 - val_loss: 0.1514\n",
      "Epoch 14/20\n",
      "\u001b[1m1563/1563\u001b[0m \u001b[32m━━━━━━━━━━━━━━━━━━━━\u001b[0m\u001b[37m\u001b[0m \u001b[1m285s\u001b[0m 182ms/step - accuracy: 0.9590 - loss: 0.1890 - val_accuracy: 0.9549 - val_loss: 0.1701\n",
      "Epoch 15/20\n",
      "\u001b[1m1563/1563\u001b[0m \u001b[32m━━━━━━━━━━━━━━━━━━━━\u001b[0m\u001b[37m\u001b[0m \u001b[1m284s\u001b[0m 182ms/step - accuracy: 0.9621 - loss: 0.1758 - val_accuracy: 0.9569 - val_loss: 0.1605\n",
      "Epoch 16/20\n",
      "\u001b[1m1563/1563\u001b[0m \u001b[32m━━━━━━━━━━━━━━━━━━━━\u001b[0m\u001b[37m\u001b[0m \u001b[1m281s\u001b[0m 180ms/step - accuracy: 0.9662 - loss: 0.1572 - val_accuracy: 0.9574 - val_loss: 0.1571\n",
      "Epoch 17/20\n",
      "\u001b[1m1563/1563\u001b[0m \u001b[32m━━━━━━━━━━━━━━━━━━━━\u001b[0m\u001b[37m\u001b[0m \u001b[1m281s\u001b[0m 180ms/step - accuracy: 0.9688 - loss: 0.1509 - val_accuracy: 0.9586 - val_loss: 0.1585\n",
      "Epoch 18/20\n",
      "\u001b[1m1563/1563\u001b[0m \u001b[32m━━━━━━━━━━━━━━━━━━━━\u001b[0m\u001b[37m\u001b[0m \u001b[1m280s\u001b[0m 179ms/step - accuracy: 0.9698 - loss: 0.1420 - val_accuracy: 0.9598 - val_loss: 0.1564\n",
      "Epoch 19/20\n",
      "\u001b[1m1563/1563\u001b[0m \u001b[32m━━━━━━━━━━━━━━━━━━━━\u001b[0m\u001b[37m\u001b[0m \u001b[1m280s\u001b[0m 179ms/step - accuracy: 0.9721 - loss: 0.1308 - val_accuracy: 0.9574 - val_loss: 0.1644\n",
      "Epoch 20/20\n",
      "\u001b[1m1563/1563\u001b[0m \u001b[32m━━━━━━━━━━━━━━━━━━━━\u001b[0m\u001b[37m\u001b[0m \u001b[1m281s\u001b[0m 180ms/step - accuracy: 0.9753 - loss: 0.1188 - val_accuracy: 0.9601 - val_loss: 0.1646\n"
     ]
    }
   ],
   "source": [
    "#fit\n",
    "history1 = fine_tuning_model.fit(\n",
    "    datagen.flow(x_train, y_train, batch_size=32),\n",
    "    validation_data = (x_test, y_test),\n",
    "    epochs=20,\n",
    "    batch_size=32\n",
    ")"
   ]
  },
  {
   "cell_type": "code",
   "execution_count": 11,
   "id": "74fc770b",
   "metadata": {
    "execution": {
     "iopub.execute_input": "2025-09-03T19:56:25.041268Z",
     "iopub.status.busy": "2025-09-03T19:56:25.040500Z",
     "iopub.status.idle": "2025-09-03T19:56:25.230791Z",
     "shell.execute_reply": "2025-09-03T19:56:25.230148Z"
    },
    "papermill": {
     "duration": 1.485667,
     "end_time": "2025-09-03T19:56:25.231924",
     "exception": false,
     "start_time": "2025-09-03T19:56:23.746257",
     "status": "completed"
    },
    "tags": []
   },
   "outputs": [
    {
     "data": {
      "image/png": "[encoded data removed]",
      "text/plain": [
       "<Figure size 640x480 with 1 Axes>"
      ]
     },
     "metadata": {},
     "output_type": "display_data"
    }
   ],
   "source": [
    "#plot the data\n",
    "plt.plot(history1.history['accuracy'], label=f'{\"cifar_10\"} Train Accuracy')\n",
    "plt.plot(history1.history['val_accuracy'], label=f'{\"cifar_10\"} Validation Accuracy')\n",
    "plt.xlabel('epochs')\n",
    "plt.ylabel('accuracy')\n",
    "plt.legend()\n",
    "plt.show()"
   ]
  },
  {
   "cell_type": "code",
   "execution_count": 12,
   "id": "fa54b8fa",
   "metadata": {
    "execution": {
     "iopub.execute_input": "2025-09-03T19:56:27.984437Z",
     "iopub.status.busy": "2025-09-03T19:56:27.984190Z",
     "iopub.status.idle": "2025-09-03T19:56:52.770883Z",
     "shell.execute_reply": "2025-09-03T19:56:52.770060Z"
    },
    "papermill": {
     "duration": 26.080757,
     "end_time": "2025-09-03T19:56:52.772192",
     "exception": false,
     "start_time": "2025-09-03T19:56:26.691435",
     "status": "completed"
    },
    "tags": []
   },
   "outputs": [
    {
     "name": "stdout",
     "output_type": "stream",
     "text": [
      "\u001b[1m313/313\u001b[0m \u001b[32m━━━━━━━━━━━━━━━━━━━━\u001b[0m\u001b[37m\u001b[0m \u001b[1m24s\u001b[0m 62ms/step\n",
      "Test Accuracy: 96.01%\n"
     ]
    }
   ],
   "source": [
    "y_pred = fine_tuning_model.predict(x_test)\n",
    "y_pred_classes = y_pred.argmax(axis=1)\n",
    "y_true = y_test.argmax(axis=1) if y_test.ndim > 1 else y_test\n",
    "\n",
    "# Calculate accuracy\n",
    "test_accuracy = accuracy_score(y_true, y_pred_classes)\n",
    "\n",
    "print(f\"Test Accuracy: {test_accuracy * 100:.2f}%\")"
   ]
  },
  {
   "cell_type": "code",
   "execution_count": 13,
   "id": "7daf3543",
   "metadata": {
    "execution": {
     "iopub.execute_input": "2025-09-03T19:56:55.515879Z",
     "iopub.status.busy": "2025-09-03T19:56:55.515559Z",
     "iopub.status.idle": "2025-09-03T19:56:55.529602Z",
     "shell.execute_reply": "2025-09-03T19:56:55.528824Z"
    },
    "papermill": {
     "duration": 1.305267,
     "end_time": "2025-09-03T19:56:55.530755",
     "exception": false,
     "start_time": "2025-09-03T19:56:54.225488",
     "status": "completed"
    },
    "tags": []
   },
   "outputs": [
    {
     "name": "stdout",
     "output_type": "stream",
     "text": [
      "              precision    recall  f1-score   support\n",
      "\n",
      "           0       0.97      0.97      0.97      1000\n",
      "           1       0.97      0.98      0.97      1000\n",
      "           2       0.96      0.96      0.96      1000\n",
      "           3       0.91      0.94      0.92      1000\n",
      "           4       0.97      0.95      0.96      1000\n",
      "           5       0.97      0.88      0.93      1000\n",
      "           6       0.97      0.99      0.98      1000\n",
      "           7       0.96      0.98      0.97      1000\n",
      "           8       0.97      0.98      0.97      1000\n",
      "           9       0.97      0.97      0.97      1000\n",
      "\n",
      "    accuracy                           0.96     10000\n",
      "   macro avg       0.96      0.96      0.96     10000\n",
      "weighted avg       0.96      0.96      0.96     10000\n",
      "\n"
     ]
    }
   ],
   "source": [
    "print(classification_report(y_true, y_pred_classes))"
   ]
  },
  {
   "cell_type": "code",
   "execution_count": 14,
   "id": "23df942d",
   "metadata": {
    "execution": {
     "iopub.execute_input": "2025-09-03T19:56:58.341399Z",
     "iopub.status.busy": "2025-09-03T19:56:58.340811Z",
     "iopub.status.idle": "2025-09-03T19:57:00.120070Z",
     "shell.execute_reply": "2025-09-03T19:57:00.119440Z"
    },
    "papermill": {
     "duration": 3.222672,
     "end_time": "2025-09-03T19:57:00.121392",
     "exception": false,
     "start_time": "2025-09-03T19:56:56.898720",
     "status": "completed"
    },
    "tags": []
   },
   "outputs": [],
   "source": [
    "# save model\n",
    "fine_tuning_model.save(\"resnet50_finetuned.keras\")"
   ]
  }
 ],
 "metadata": {
  "kaggle": {
   "accelerator": "gpu",
   "dataSources": [],
   "dockerImageVersionId": 31090,
   "isGpuEnabled": true,
   "isInternetEnabled": true,
   "language": "python",
   "sourceType": "notebook"
  },
  "kernelspec": {
   "display_name": "Python 3",
   "language": "python",
   "name": "python3"
  },
  "language_info": {
   "codemirror_mode": {
    "name": "ipython",
    "version": 3
   },
   "file_extension": ".py",
   "mimetype": "text/x-python",
   "name": "python",
   "nbconvert_exporter": "python",
   "pygments_lexer": "ipython3",
   "version": "3.11.13"
  },
  "papermill": {
   "default_parameters": {},
   "duration": 5839.253486,
   "end_time": "2025-09-03T19:57:04.260871",
   "environment_variables": {},
   "exception": null,
   "input_path": "__notebook__.ipynb",
   "output_path": "__notebook__.ipynb",
   "parameters": {},
   "start_time": "2025-09-03T18:19:45.007385",
   "version": "2.6.0"
  }
 },
 "nbformat": 4,
 "nbformat_minor": 5
}
